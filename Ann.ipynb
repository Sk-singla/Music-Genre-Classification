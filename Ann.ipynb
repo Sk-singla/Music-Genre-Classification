{
 "cells": [
  {
   "cell_type": "code",
   "execution_count": 1,
   "metadata": {},
   "outputs": [
    {
     "name": "stderr",
     "output_type": "stream",
     "text": [
      "F:\\Anaconda\\lib\\site-packages\\statsmodels\\tools\\_testing.py:19: FutureWarning: pandas.util.testing is deprecated. Use the functions in the public API at pandas.testing instead.\n",
      "  import pandas.util.testing as tm\n"
     ]
    }
   ],
   "source": [
    "from helper import *\n",
    "import numpy as np\n",
    "import pandas as pd\n",
    "import matplotlib.pyplot as plt\n",
    "import os\n",
    "from tqdm import tqdm\n",
    "from tensorflow.keras.models import Sequential, load_model\n",
    "from tensorflow.keras.layers import Dense, Dropout, Activation, Flatten\n",
    "from tensorflow.keras.optimizers import Adam\n",
    "from sklearn import metrics\n",
    "from tensorflow.keras.callbacks import ModelCheckpoint\n",
    "from datetime import datetime"
   ]
  },
  {
   "cell_type": "code",
   "execution_count": 2,
   "metadata": {},
   "outputs": [
    {
     "name": "stderr",
     "output_type": "stream",
     "text": [
      "F:\\Anaconda\\lib\\site-packages\\sklearn\\preprocessing\\_encoders.py:395: DeprecationWarning: `np.int` is a deprecated alias for the builtin `int`. To silence this warning, use `int` by itself. Doing this will not modify any behavior and is safe. When replacing `np.int`, you may wish to use e.g. `np.int64` or `np.int32` to specify the precision. If you wish to review your current use, check the release note link for additional information.\n",
      "Deprecated in NumPy 1.20; for more details and guidance: https://numpy.org/devdocs/release/1.20.0-notes.html#deprecations\n",
      "  check_array(X, dtype=np.int)\n",
      "F:\\Anaconda\\lib\\site-packages\\sklearn\\preprocessing\\_encoders.py:110: DeprecationWarning: `np.int` is a deprecated alias for the builtin `int`. To silence this warning, use `int` by itself. Doing this will not modify any behavior and is safe. When replacing `np.int`, you may wish to use e.g. `np.int64` or `np.int32` to specify the precision. If you wish to review your current use, check the release note link for additional information.\n",
      "Deprecated in NumPy 1.20; for more details and guidance: https://numpy.org/devdocs/release/1.20.0-notes.html#deprecations\n",
      "  X_int = np.zeros((n_samples, n_features), dtype=np.int)\n",
      "F:\\Anaconda\\lib\\site-packages\\sklearn\\preprocessing\\_encoders.py:111: DeprecationWarning: `np.bool` is a deprecated alias for the builtin `bool`. To silence this warning, use `bool` by itself. Doing this will not modify any behavior and is safe. If you specifically wanted the numpy scalar type, use `np.bool_` here.\n",
      "Deprecated in NumPy 1.20; for more details and guidance: https://numpy.org/devdocs/release/1.20.0-notes.html#deprecations\n",
      "  X_mask = np.ones((n_samples, n_features), dtype=np.bool)\n"
     ]
    }
   ],
   "source": [
    "helper = Helper()\n",
    "X_train, X_test, y_train, y_test = helper.getTrainTestNums()"
   ]
  },
  {
   "cell_type": "code",
   "execution_count": 3,
   "metadata": {},
   "outputs": [],
   "source": [
    "accuracy = []\n",
    "val_accuracy = []\n",
    "val_loss = []\n",
    "loss = []"
   ]
  },
  {
   "cell_type": "code",
   "execution_count": 4,
   "metadata": {},
   "outputs": [
    {
     "name": "stdout",
     "output_type": "stream",
     "text": [
      "Model: \"sequential\"\n",
      "_________________________________________________________________\n",
      " Layer (type)                Output Shape              Param #   \n",
      "=================================================================\n",
      " dense (Dense)               (None, 256)               14848     \n",
      "                                                                 \n",
      " activation (Activation)     (None, 256)               0         \n",
      "                                                                 \n",
      " dropout (Dropout)           (None, 256)               0         \n",
      "                                                                 \n",
      " dense_1 (Dense)             (None, 512)               131584    \n",
      "                                                                 \n",
      " activation_1 (Activation)   (None, 512)               0         \n",
      "                                                                 \n",
      " dropout_1 (Dropout)         (None, 512)               0         \n",
      "                                                                 \n",
      " dense_2 (Dense)             (None, 128)               65664     \n",
      "                                                                 \n",
      " activation_2 (Activation)   (None, 128)               0         \n",
      "                                                                 \n",
      " dropout_2 (Dropout)         (None, 128)               0         \n",
      "                                                                 \n",
      " dense_3 (Dense)             (None, 10)                1290      \n",
      "                                                                 \n",
      " activation_3 (Activation)   (None, 10)                0         \n",
      "                                                                 \n",
      "=================================================================\n",
      "Total params: 213,386\n",
      "Trainable params: 213,386\n",
      "Non-trainable params: 0\n",
      "_________________________________________________________________\n"
     ]
    }
   ],
   "source": [
    "model = load_model(\"saved_models/genre_classification_scaled.hdf5\")\n",
    "model.summary()"
   ]
  },
  {
   "cell_type": "code",
   "execution_count": 10,
   "metadata": {},
   "outputs": [
    {
     "name": "stdout",
     "output_type": "stream",
     "text": [
      "Model: \"sequential\"\n",
      "_________________________________________________________________\n",
      " Layer (type)                Output Shape              Param #   \n",
      "=================================================================\n",
      " dense (Dense)               (None, 256)               14848     \n",
      "                                                                 \n",
      " activation (Activation)     (None, 256)               0         \n",
      "                                                                 \n",
      " dropout (Dropout)           (None, 256)               0         \n",
      "                                                                 \n",
      " dense_1 (Dense)             (None, 512)               131584    \n",
      "                                                                 \n",
      " activation_1 (Activation)   (None, 512)               0         \n",
      "                                                                 \n",
      " dropout_1 (Dropout)         (None, 512)               0         \n",
      "                                                                 \n",
      " dense_2 (Dense)             (None, 128)               65664     \n",
      "                                                                 \n",
      " activation_2 (Activation)   (None, 128)               0         \n",
      "                                                                 \n",
      " dropout_2 (Dropout)         (None, 128)               0         \n",
      "                                                                 \n",
      " dense_3 (Dense)             (None, 10)                1290      \n",
      "                                                                 \n",
      " activation_3 (Activation)   (None, 10)                0         \n",
      "                                                                 \n",
      "=================================================================\n",
      "Total params: 213,386\n",
      "Trainable params: 213,386\n",
      "Non-trainable params: 0\n",
      "_________________________________________________________________\n"
     ]
    }
   ],
   "source": [
    "model = Sequential()\n",
    "\n",
    "\n",
    "# first layer\n",
    "model.add(Dense(256,input_shape=(X_train.shape[1],)))\n",
    "model.add(Activation('relu'))\n",
    "model.add(Dropout(0.5))\n",
    "\n",
    "# second layer\n",
    "model.add(Dense(512))\n",
    "model.add(Activation('relu'))\n",
    "model.add(Dropout(0.5))\n",
    "\n",
    "# third layer \n",
    "model.add(Dense(128))\n",
    "model.add(Activation('relu'))\n",
    "model.add(Dropout(0.5))\n",
    "\n",
    "# final layer\n",
    "model.add(Dense(y_train.shape[1]))\n",
    "model.add(Activation('softmax'))\n",
    "model.summary()"
   ]
  },
  {
   "cell_type": "code",
   "execution_count": 11,
   "metadata": {},
   "outputs": [],
   "source": [
    "model.compile(loss='categorical_crossentropy',metrics=['accuracy'],optimizer='adam')"
   ]
  },
  {
   "cell_type": "code",
   "execution_count": 17,
   "metadata": {},
   "outputs": [
    {
     "name": "stdout",
     "output_type": "stream",
     "text": [
      "Epoch 1/50\n",
      "1/7 [===>..........................] - ETA: 0s - loss: 0.5404 - accuracy: 0.7969\n",
      "Epoch 00001: saving model to saved_models\\genre_classification_scaled.hdf5\n",
      "7/7 [==============================] - 0s 29ms/step - loss: 0.5497 - accuracy: 0.8012 - val_loss: 0.8932 - val_accuracy: 0.6850\n",
      "Epoch 2/50\n",
      "1/7 [===>..........................] - ETA: 0s - loss: 0.5422 - accuracy: 0.7891\n",
      "Epoch 00002: saving model to saved_models\\genre_classification_scaled.hdf5\n",
      "7/7 [==============================] - 0s 14ms/step - loss: 0.4943 - accuracy: 0.8200 - val_loss: 0.8681 - val_accuracy: 0.7000\n",
      "Epoch 3/50\n",
      "1/7 [===>..........................] - ETA: 0s - loss: 0.4857 - accuracy: 0.8359\n",
      "Epoch 00003: saving model to saved_models\\genre_classification_scaled.hdf5\n",
      "7/7 [==============================] - 0s 13ms/step - loss: 0.5296 - accuracy: 0.8225 - val_loss: 0.8786 - val_accuracy: 0.7100\n",
      "Epoch 4/50\n",
      "1/7 [===>..........................] - ETA: 0s - loss: 0.5882 - accuracy: 0.7812\n",
      "Epoch 00004: saving model to saved_models\\genre_classification_scaled.hdf5\n",
      "7/7 [==============================] - 0s 15ms/step - loss: 0.5367 - accuracy: 0.8062 - val_loss: 0.9085 - val_accuracy: 0.7150\n",
      "Epoch 5/50\n",
      "1/7 [===>..........................] - ETA: 0s - loss: 0.4839 - accuracy: 0.8594\n",
      "Epoch 00005: saving model to saved_models\\genre_classification_scaled.hdf5\n",
      "7/7 [==============================] - 0s 18ms/step - loss: 0.5325 - accuracy: 0.8087 - val_loss: 0.9418 - val_accuracy: 0.7050\n",
      "Epoch 6/50\n",
      "1/7 [===>..........................] - ETA: 0s - loss: 0.6435 - accuracy: 0.7578\n",
      "Epoch 00006: saving model to saved_models\\genre_classification_scaled.hdf5\n",
      "7/7 [==============================] - 0s 23ms/step - loss: 0.5391 - accuracy: 0.8238 - val_loss: 0.9347 - val_accuracy: 0.6900\n",
      "Epoch 7/50\n",
      "1/7 [===>..........................] - ETA: 0s - loss: 0.5316 - accuracy: 0.8125\n",
      "Epoch 00007: saving model to saved_models\\genre_classification_scaled.hdf5\n",
      "7/7 [==============================] - 0s 22ms/step - loss: 0.5198 - accuracy: 0.8112 - val_loss: 0.8878 - val_accuracy: 0.7050\n",
      "Epoch 8/50\n",
      "7/7 [==============================] - ETA: 0s - loss: 0.5093 - accuracy: 0.82 - ETA: 0s - loss: 0.4870 - accuracy: 0.8363\n",
      "Epoch 00008: saving model to saved_models\\genre_classification_scaled.hdf5\n",
      "7/7 [==============================] - 0s 26ms/step - loss: 0.4870 - accuracy: 0.8363 - val_loss: 0.8923 - val_accuracy: 0.6900\n",
      "Epoch 9/50\n",
      "6/7 [========================>.....] - ETA: 0s - loss: 0.3933 - accuracy: 0.85 - ETA: 0s - loss: 0.4947 - accuracy: 0.8359\n",
      "Epoch 00009: saving model to saved_models\\genre_classification_scaled.hdf5\n",
      "7/7 [==============================] - 0s 26ms/step - loss: 0.4807 - accuracy: 0.8425 - val_loss: 0.8772 - val_accuracy: 0.7250\n",
      "Epoch 10/50\n",
      "1/7 [===>..........................] - ETA: 0s - loss: 0.5752 - accuracy: 0.8203\n",
      "Epoch 00010: saving model to saved_models\\genre_classification_scaled.hdf5\n",
      "7/7 [==============================] - 0s 23ms/step - loss: 0.4838 - accuracy: 0.8338 - val_loss: 0.8594 - val_accuracy: 0.6950\n",
      "Epoch 11/50\n",
      "1/7 [===>..........................] - ETA: 0s - loss: 0.5298 - accuracy: 0.8125\n",
      "Epoch 00011: saving model to saved_models\\genre_classification_scaled.hdf5\n",
      "7/7 [==============================] - 0s 22ms/step - loss: 0.4460 - accuracy: 0.8462 - val_loss: 0.8826 - val_accuracy: 0.6900\n",
      "Epoch 12/50\n",
      "1/7 [===>..........................] - ETA: 0s - loss: 0.5318 - accuracy: 0.8047\n",
      "Epoch 00012: saving model to saved_models\\genre_classification_scaled.hdf5\n",
      "7/7 [==============================] - 0s 22ms/step - loss: 0.4645 - accuracy: 0.8438 - val_loss: 0.9134 - val_accuracy: 0.6850\n",
      "Epoch 13/50\n",
      "1/7 [===>..........................] - ETA: 0s - loss: 0.4569 - accuracy: 0.8594\n",
      "Epoch 00013: saving model to saved_models\\genre_classification_scaled.hdf5\n",
      "7/7 [==============================] - 0s 22ms/step - loss: 0.4257 - accuracy: 0.8575 - val_loss: 0.9134 - val_accuracy: 0.7200\n",
      "Epoch 14/50\n",
      "1/7 [===>..........................] - ETA: 0s - loss: 0.4946 - accuracy: 0.8281\n",
      "Epoch 00014: saving model to saved_models\\genre_classification_scaled.hdf5\n",
      "7/7 [==============================] - 0s 23ms/step - loss: 0.4488 - accuracy: 0.8475 - val_loss: 0.8824 - val_accuracy: 0.7350\n",
      "Epoch 15/50\n",
      "1/7 [===>..........................] - ETA: 0s - loss: 0.4346 - accuracy: 0.8672\n",
      "Epoch 00015: saving model to saved_models\\genre_classification_scaled.hdf5\n",
      "7/7 [==============================] - 0s 23ms/step - loss: 0.3843 - accuracy: 0.8687 - val_loss: 0.8683 - val_accuracy: 0.7250\n",
      "Epoch 16/50\n",
      "1/7 [===>..........................] - ETA: 0s - loss: 0.5212 - accuracy: 0.8281\n",
      "Epoch 00016: saving model to saved_models\\genre_classification_scaled.hdf5\n",
      "7/7 [==============================] - 0s 22ms/step - loss: 0.4877 - accuracy: 0.8425 - val_loss: 0.8834 - val_accuracy: 0.7200\n",
      "Epoch 17/50\n",
      "1/7 [===>..........................] - ETA: 0s - loss: 0.3597 - accuracy: 0.8594\n",
      "Epoch 00017: saving model to saved_models\\genre_classification_scaled.hdf5\n",
      "7/7 [==============================] - 0s 23ms/step - loss: 0.4768 - accuracy: 0.8238 - val_loss: 0.8783 - val_accuracy: 0.7150\n",
      "Epoch 18/50\n",
      "7/7 [==============================] - ETA: 0s - loss: 0.4387 - accuracy: 0.86 - ETA: 0s - loss: 0.4316 - accuracy: 0.8575\n",
      "Epoch 00018: saving model to saved_models\\genre_classification_scaled.hdf5\n",
      "7/7 [==============================] - 0s 25ms/step - loss: 0.4316 - accuracy: 0.8575 - val_loss: 0.8783 - val_accuracy: 0.7050\n",
      "Epoch 19/50\n",
      "1/7 [===>..........................] - ETA: 0s - loss: 0.4303 - accuracy: 0.8750\n",
      "Epoch 00019: saving model to saved_models\\genre_classification_scaled.hdf5\n",
      "7/7 [==============================] - 0s 23ms/step - loss: 0.4297 - accuracy: 0.8600 - val_loss: 0.8662 - val_accuracy: 0.7050\n",
      "Epoch 20/50\n",
      "7/7 [==============================] - ETA: 0s - loss: 0.2825 - accuracy: 0.93 - ETA: 0s - loss: 0.4023 - accuracy: 0.8687\n",
      "Epoch 00020: saving model to saved_models\\genre_classification_scaled.hdf5\n",
      "7/7 [==============================] - 0s 25ms/step - loss: 0.4023 - accuracy: 0.8687 - val_loss: 0.9106 - val_accuracy: 0.6900\n",
      "Epoch 21/50\n",
      "1/7 [===>..........................] - ETA: 0s - loss: 0.5066 - accuracy: 0.8125\n",
      "Epoch 00021: saving model to saved_models\\genre_classification_scaled.hdf5\n",
      "7/7 [==============================] - 0s 23ms/step - loss: 0.4127 - accuracy: 0.8587 - val_loss: 0.9259 - val_accuracy: 0.6800\n",
      "Epoch 22/50\n",
      "1/7 [===>..........................] - ETA: 0s - loss: 0.3340 - accuracy: 0.8750\n",
      "Epoch 00022: saving model to saved_models\\genre_classification_scaled.hdf5\n",
      "7/7 [==============================] - 0s 23ms/step - loss: 0.3874 - accuracy: 0.8575 - val_loss: 0.8945 - val_accuracy: 0.7150\n",
      "Epoch 23/50\n",
      "7/7 [==============================] - ETA: 0s - loss: 0.4137 - accuracy: 0.84 - ETA: 0s - loss: 0.3847 - accuracy: 0.8675\n",
      "Epoch 00023: saving model to saved_models\\genre_classification_scaled.hdf5\n",
      "7/7 [==============================] - 0s 25ms/step - loss: 0.3847 - accuracy: 0.8675 - val_loss: 0.9091 - val_accuracy: 0.7200\n",
      "Epoch 24/50\n",
      "6/7 [========================>.....] - ETA: 0s - loss: 0.3532 - accuracy: 0.89 - ETA: 0s - loss: 0.3922 - accuracy: 0.8737\n",
      "Epoch 00024: saving model to saved_models\\genre_classification_scaled.hdf5\n",
      "7/7 [==============================] - 0s 30ms/step - loss: 0.3911 - accuracy: 0.8712 - val_loss: 0.9166 - val_accuracy: 0.7200\n",
      "Epoch 25/50\n",
      "1/7 [===>..........................] - ETA: 0s - loss: 0.3333 - accuracy: 0.8672\n",
      "Epoch 00025: saving model to saved_models\\genre_classification_scaled.hdf5\n",
      "7/7 [==============================] - 0s 22ms/step - loss: 0.3698 - accuracy: 0.8687 - val_loss: 0.9370 - val_accuracy: 0.7050\n",
      "Epoch 26/50\n",
      "1/7 [===>..........................] - ETA: 0s - loss: 0.3779 - accuracy: 0.8672\n",
      "Epoch 00026: saving model to saved_models\\genre_classification_scaled.hdf5\n",
      "7/7 [==============================] - 0s 22ms/step - loss: 0.3468 - accuracy: 0.8800 - val_loss: 0.9334 - val_accuracy: 0.7050\n",
      "Epoch 27/50\n",
      "7/7 [==============================] - ETA: 0s - loss: 0.2991 - accuracy: 0.87 - ETA: 0s - loss: 0.3616 - accuracy: 0.8675\n",
      "Epoch 00027: saving model to saved_models\\genre_classification_scaled.hdf5\n",
      "7/7 [==============================] - 0s 24ms/step - loss: 0.3616 - accuracy: 0.8675 - val_loss: 0.9412 - val_accuracy: 0.7200\n"
     ]
    },
    {
     "name": "stdout",
     "output_type": "stream",
     "text": [
      "Epoch 28/50\n",
      "1/7 [===>..........................] - ETA: 0s - loss: 0.3719 - accuracy: 0.8672\n",
      "Epoch 00028: saving model to saved_models\\genre_classification_scaled.hdf5\n",
      "7/7 [==============================] - 0s 40ms/step - loss: 0.3994 - accuracy: 0.8662 - val_loss: 0.9803 - val_accuracy: 0.7050\n",
      "Epoch 29/50\n",
      "5/7 [====================>.........] - ETA: 0s - loss: 0.4191 - accuracy: 0.89 - ETA: 0s - loss: 0.3821 - accuracy: 0.8797\n",
      "Epoch 00029: saving model to saved_models\\genre_classification_scaled.hdf5\n",
      "7/7 [==============================] - 0s 29ms/step - loss: 0.3881 - accuracy: 0.8737 - val_loss: 0.9888 - val_accuracy: 0.7200\n",
      "Epoch 30/50\n",
      "1/7 [===>..........................] - ETA: 0s - loss: 0.4089 - accuracy: 0.8750\n",
      "Epoch 00030: saving model to saved_models\\genre_classification_scaled.hdf5\n",
      "7/7 [==============================] - 0s 22ms/step - loss: 0.3715 - accuracy: 0.8763 - val_loss: 0.9557 - val_accuracy: 0.7050\n",
      "Epoch 31/50\n",
      "1/7 [===>..........................] - ETA: 0s - loss: 0.2930 - accuracy: 0.9219\n",
      "Epoch 00031: saving model to saved_models\\genre_classification_scaled.hdf5\n",
      "7/7 [==============================] - 0s 22ms/step - loss: 0.3467 - accuracy: 0.8775 - val_loss: 0.9443 - val_accuracy: 0.6950\n",
      "Epoch 32/50\n",
      "1/7 [===>..........................] - ETA: 0s - loss: 0.3692 - accuracy: 0.8594\n",
      "Epoch 00032: saving model to saved_models\\genre_classification_scaled.hdf5\n",
      "7/7 [==============================] - 0s 22ms/step - loss: 0.3584 - accuracy: 0.8675 - val_loss: 0.9428 - val_accuracy: 0.7000\n",
      "Epoch 33/50\n",
      "1/7 [===>..........................] - ETA: 0s - loss: 0.3496 - accuracy: 0.8516\n",
      "Epoch 00033: saving model to saved_models\\genre_classification_scaled.hdf5\n",
      "7/7 [==============================] - 0s 22ms/step - loss: 0.3351 - accuracy: 0.8900 - val_loss: 0.9461 - val_accuracy: 0.7250\n",
      "Epoch 34/50\n",
      "1/7 [===>..........................] - ETA: 0s - loss: 0.3185 - accuracy: 0.8672\n",
      "Epoch 00034: saving model to saved_models\\genre_classification_scaled.hdf5\n",
      "7/7 [==============================] - 0s 23ms/step - loss: 0.3561 - accuracy: 0.8712 - val_loss: 0.9401 - val_accuracy: 0.7100\n",
      "Epoch 35/50\n",
      "7/7 [==============================] - ETA: 0s - loss: 0.2869 - accuracy: 0.89 - ETA: 0s - loss: 0.3365 - accuracy: 0.8863\n",
      "Epoch 00035: saving model to saved_models\\genre_classification_scaled.hdf5\n",
      "7/7 [==============================] - 0s 20ms/step - loss: 0.3365 - accuracy: 0.8863 - val_loss: 0.9275 - val_accuracy: 0.7250\n",
      "Epoch 36/50\n",
      "1/7 [===>..........................] - ETA: 0s - loss: 0.2928 - accuracy: 0.8984\n",
      "Epoch 00036: saving model to saved_models\\genre_classification_scaled.hdf5\n",
      "7/7 [==============================] - 0s 22ms/step - loss: 0.2873 - accuracy: 0.9013 - val_loss: 0.9242 - val_accuracy: 0.7300\n",
      "Epoch 37/50\n",
      "1/7 [===>..........................] - ETA: 0s - loss: 0.3667 - accuracy: 0.8750\n",
      "Epoch 00037: saving model to saved_models\\genre_classification_scaled.hdf5\n",
      "7/7 [==============================] - 0s 23ms/step - loss: 0.3169 - accuracy: 0.8950 - val_loss: 0.9251 - val_accuracy: 0.7300\n",
      "Epoch 38/50\n",
      "1/7 [===>..........................] - ETA: 0s - loss: 0.2447 - accuracy: 0.9062\n",
      "Epoch 00038: saving model to saved_models\\genre_classification_scaled.hdf5\n",
      "7/7 [==============================] - 0s 21ms/step - loss: 0.3235 - accuracy: 0.8737 - val_loss: 0.9471 - val_accuracy: 0.7300\n",
      "Epoch 39/50\n",
      "1/7 [===>..........................] - ETA: 0s - loss: 0.2845 - accuracy: 0.9219\n",
      "Epoch 00039: saving model to saved_models\\genre_classification_scaled.hdf5\n",
      "7/7 [==============================] - 0s 23ms/step - loss: 0.3449 - accuracy: 0.8913 - val_loss: 0.9549 - val_accuracy: 0.7500\n",
      "Epoch 40/50\n",
      "1/7 [===>..........................] - ETA: 0s - loss: 0.3244 - accuracy: 0.8828\n",
      "Epoch 00040: saving model to saved_models\\genre_classification_scaled.hdf5\n",
      "7/7 [==============================] - 0s 23ms/step - loss: 0.2992 - accuracy: 0.8900 - val_loss: 0.9364 - val_accuracy: 0.7450\n",
      "Epoch 41/50\n",
      "1/7 [===>..........................] - ETA: 0s - loss: 0.1827 - accuracy: 0.9375\n",
      "Epoch 00041: saving model to saved_models\\genre_classification_scaled.hdf5\n",
      "7/7 [==============================] - 0s 22ms/step - loss: 0.3143 - accuracy: 0.8913 - val_loss: 0.9512 - val_accuracy: 0.7250\n",
      "Epoch 42/50\n",
      "1/7 [===>..........................] - ETA: 0s - loss: 0.4225 - accuracy: 0.8281\n",
      "Epoch 00042: saving model to saved_models\\genre_classification_scaled.hdf5\n",
      "7/7 [==============================] - 0s 22ms/step - loss: 0.3273 - accuracy: 0.8950 - val_loss: 0.9694 - val_accuracy: 0.7050\n",
      "Epoch 43/50\n",
      "1/7 [===>..........................] - ETA: 0s - loss: 0.2093 - accuracy: 0.9141\n",
      "Epoch 00043: saving model to saved_models\\genre_classification_scaled.hdf5\n",
      "7/7 [==============================] - 0s 20ms/step - loss: 0.3115 - accuracy: 0.8925 - val_loss: 0.9982 - val_accuracy: 0.7100\n",
      "Epoch 44/50\n",
      "1/7 [===>..........................] - ETA: 0s - loss: 0.3159 - accuracy: 0.9062\n",
      "Epoch 00044: saving model to saved_models\\genre_classification_scaled.hdf5\n",
      "7/7 [==============================] - 0s 22ms/step - loss: 0.2849 - accuracy: 0.9000 - val_loss: 0.9863 - val_accuracy: 0.7050\n",
      "Epoch 45/50\n",
      "1/7 [===>..........................] - ETA: 0s - loss: 0.2691 - accuracy: 0.9062\n",
      "Epoch 00045: saving model to saved_models\\genre_classification_scaled.hdf5\n",
      "7/7 [==============================] - 0s 23ms/step - loss: 0.2957 - accuracy: 0.9050 - val_loss: 0.9947 - val_accuracy: 0.7100\n",
      "Epoch 46/50\n",
      "1/7 [===>..........................] - ETA: 0s - loss: 0.3126 - accuracy: 0.8594\n",
      "Epoch 00046: saving model to saved_models\\genre_classification_scaled.hdf5\n",
      "7/7 [==============================] - 0s 22ms/step - loss: 0.3014 - accuracy: 0.8875 - val_loss: 1.0053 - val_accuracy: 0.7150\n",
      "Epoch 47/50\n",
      "1/7 [===>..........................] - ETA: 0s - loss: 0.2518 - accuracy: 0.8984\n",
      "Epoch 00047: saving model to saved_models\\genre_classification_scaled.hdf5\n",
      "7/7 [==============================] - 0s 22ms/step - loss: 0.2549 - accuracy: 0.8988 - val_loss: 1.0153 - val_accuracy: 0.7100\n",
      "Epoch 48/50\n",
      "1/7 [===>..........................] - ETA: 0s - loss: 0.3114 - accuracy: 0.8984\n",
      "Epoch 00048: saving model to saved_models\\genre_classification_scaled.hdf5\n",
      "7/7 [==============================] - 0s 20ms/step - loss: 0.2975 - accuracy: 0.8925 - val_loss: 1.0310 - val_accuracy: 0.7050\n",
      "Epoch 49/50\n",
      "1/7 [===>..........................] - ETA: 0s - loss: 0.2729 - accuracy: 0.9219\n",
      "Epoch 00049: saving model to saved_models\\genre_classification_scaled.hdf5\n",
      "7/7 [==============================] - 0s 22ms/step - loss: 0.2437 - accuracy: 0.9262 - val_loss: 1.0740 - val_accuracy: 0.7100\n",
      "Epoch 50/50\n",
      "7/7 [==============================] - ETA: 0s - loss: 0.3016 - accuracy: 0.88 - ETA: 0s - loss: 0.2572 - accuracy: 0.9275\n",
      "Epoch 00050: saving model to saved_models\\genre_classification_scaled.hdf5\n",
      "7/7 [==============================] - 0s 24ms/step - loss: 0.2572 - accuracy: 0.9275 - val_loss: 1.0641 - val_accuracy: 0.7100\n",
      "Training compiled in time:  0:00:07.919723\n"
     ]
    }
   ],
   "source": [
    "epochs = 50\n",
    "batch_size = 128\n",
    "checkpointer = ModelCheckpoint(filepath='saved_models/genre_classification_scaled.hdf5',\n",
    "                              verbose = 1, saved_best_only=True)\n",
    "start = datetime.now()\n",
    "\n",
    "history = model.fit(X_train,y_train,batch_size=batch_size,epochs=epochs,validation_data=(X_test,y_test),callbacks=[checkpointer],verbose=1)\n",
    "\n",
    "print(\"Training compiled in time: \",(datetime.now() - start))"
   ]
  },
  {
   "cell_type": "code",
   "execution_count": 18,
   "metadata": {},
   "outputs": [],
   "source": [
    "accuracy.extend(history.history['accuracy'])\n",
    "val_accuracy.extend(history.history['val_accuracy'])\n",
    "loss.extend(history.history['loss'])\n",
    "val_loss.extend(history.history['val_loss'])"
   ]
  },
  {
   "cell_type": "code",
   "execution_count": 20,
   "metadata": {},
   "outputs": [
    {
     "data": {
      "text/plain": [
       "<matplotlib.legend.Legend at 0x1a27a49f4c8>"
      ]
     },
     "execution_count": 20,
     "metadata": {},
     "output_type": "execute_result"
    },
    {
     "data": {
      "image/png": "[encoded data removed]",
      "text/plain": [
       "<Figure size 864x288 with 1 Axes>"
      ]
     },
     "metadata": {
      "needs_background": "light"
     },
     "output_type": "display_data"
    }
   ],
   "source": [
    "# Accuracy\n",
    "plt.figure(figsize=(12,4))\n",
    "plt.plot(accuracy,color='red')\n",
    "plt.plot(val_accuracy,color='blue')\n",
    "plt.legend(['Accuracy','Validation Accuracy'])"
   ]
  },
  {
   "cell_type": "code",
   "execution_count": 24,
   "metadata": {},
   "outputs": [
    {
     "data": {
      "text/plain": [
       "<matplotlib.legend.Legend at 0x1a27b617f88>"
      ]
     },
     "execution_count": 24,
     "metadata": {},
     "output_type": "execute_result"
    },
    {
     "data": {
      "image/png": "[encoded data removed]",
      "text/plain": [
       "<Figure size 864x288 with 1 Axes>"
      ]
     },
     "metadata": {
      "needs_background": "light"
     },
     "output_type": "display_data"
    }
   ],
   "source": [
    "# Loss\n",
    "plt.figure(figsize=(12,4))\n",
    "plt.plot(loss,color='red')\n",
    "plt.plot(val_loss,color='blue')\n",
    "plt.legend(['Loss','Validation loss'],loc =\"upper right\")"
   ]
  },
  {
   "cell_type": "code",
   "execution_count": 5,
   "metadata": {},
   "outputs": [],
   "source": [
    "y_pred = model.predict(X_test)\n",
    "y_pred = np.array([[round(j) for j in i] for i in y_pred],dtype='float64')"
   ]
  },
  {
   "cell_type": "code",
   "execution_count": 6,
   "metadata": {},
   "outputs": [
    {
     "name": "stdout",
     "output_type": "stream",
     "text": [
      "Accuracy:  0.685\n",
      "F-Score:  0.7193206419449962\n"
     ]
    },
    {
     "data": {
      "image/png": "[encoded data removed]",
      "text/plain": [
       "<Figure size 720x504 with 2 Axes>"
      ]
     },
     "metadata": {
      "needs_background": "light"
     },
     "output_type": "display_data"
    }
   ],
   "source": [
    "helper.evaluate(y_pred)"
   ]
  },
  {
   "cell_type": "code",
   "execution_count": null,
   "metadata": {},
   "outputs": [],
   "source": []
  }
 ],
 "metadata": {
  "kernelspec": {
   "display_name": "Python 3",
   "language": "python",
   "name": "python3"
  },
  "language_info": {
   "codemirror_mode": {
    "name": "ipython",
    "version": 3
   },
   "file_extension": ".py",
   "mimetype": "text/x-python",
   "name": "python",
   "nbconvert_exporter": "python",
   "pygments_lexer": "ipython3",
   "version": "3.7.4"
  }
 },
 "nbformat": 4,
 "nbformat_minor": 2
}
