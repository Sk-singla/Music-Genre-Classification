{
 "cells": [
  {
   "cell_type": "code",
   "execution_count": 22,
   "metadata": {},
   "outputs": [],
   "source": [
    "import numpy as np\n",
    "import pandas as pd\n",
    "import inputs\n",
    "import matplotlib.pyplot as plt\n",
    "import keras\n",
    "from keras.models import Sequential\n",
    "from keras.layers import Dense, Conv2D , MaxPool2D , Flatten , Dropout \n",
    "from keras.preprocessing.image import ImageDataGenerator\n",
    "import tensorflow as tf\n",
    "import os"
   ]
  },
  {
   "cell_type": "code",
   "execution_count": 2,
   "metadata": {},
   "outputs": [
    {
     "name": "stderr",
     "output_type": "stream",
     "text": [
      "F:\\Anaconda\\lib\\site-packages\\sklearn\\preprocessing\\_encoders.py:395: DeprecationWarning: `np.int` is a deprecated alias for the builtin `int`. To silence this warning, use `int` by itself. Doing this will not modify any behavior and is safe. When replacing `np.int`, you may wish to use e.g. `np.int64` or `np.int32` to specify the precision. If you wish to review your current use, check the release note link for additional information.\n",
      "Deprecated in NumPy 1.20; for more details and guidance: https://numpy.org/devdocs/release/1.20.0-notes.html#deprecations\n",
      "  check_array(X, dtype=np.int)\n",
      "F:\\Anaconda\\lib\\site-packages\\sklearn\\preprocessing\\_encoders.py:110: DeprecationWarning: `np.int` is a deprecated alias for the builtin `int`. To silence this warning, use `int` by itself. Doing this will not modify any behavior and is safe. When replacing `np.int`, you may wish to use e.g. `np.int64` or `np.int32` to specify the precision. If you wish to review your current use, check the release note link for additional information.\n",
      "Deprecated in NumPy 1.20; for more details and guidance: https://numpy.org/devdocs/release/1.20.0-notes.html#deprecations\n",
      "  X_int = np.zeros((n_samples, n_features), dtype=np.int)\n",
      "F:\\Anaconda\\lib\\site-packages\\sklearn\\preprocessing\\_encoders.py:111: DeprecationWarning: `np.bool` is a deprecated alias for the builtin `bool`. To silence this warning, use `bool` by itself. Doing this will not modify any behavior and is safe. If you specifically wanted the numpy scalar type, use `np.bool_` here.\n",
      "Deprecated in NumPy 1.20; for more details and guidance: https://numpy.org/devdocs/release/1.20.0-notes.html#deprecations\n",
      "  X_mask = np.ones((n_samples, n_features), dtype=np.bool)\n"
     ]
    }
   ],
   "source": [
    "X_train,X_test, y_train, y_test = inputs.getImages()"
   ]
  },
  {
   "cell_type": "code",
   "execution_count": 3,
   "metadata": {},
   "outputs": [
    {
     "name": "stdout",
     "output_type": "stream",
     "text": [
      "(799, 256, 256, 3)\n",
      "(799, 10)\n",
      "(200, 256, 256, 3)\n",
      "(200, 10)\n"
     ]
    }
   ],
   "source": [
    "print(X_train.shape)\n",
    "print(y_train.shape)\n",
    "print(X_test.shape)\n",
    "print(y_test.shape)"
   ]
  },
  {
   "cell_type": "code",
   "execution_count": 25,
   "metadata": {},
   "outputs": [
    {
     "name": "stdout",
     "output_type": "stream",
     "text": [
      "Model: \"sequential\"\n",
      "_________________________________________________________________\n",
      " Layer (type)                Output Shape              Param #   \n",
      "=================================================================\n",
      " conv2d (Conv2D)             (None, 256, 256, 32)      896       \n",
      "                                                                 \n",
      " max_pooling2d (MaxPooling2D  (None, 128, 128, 32)     0         \n",
      " )                                                               \n",
      "                                                                 \n",
      " conv2d_1 (Conv2D)           (None, 128, 128, 32)      9248      \n",
      "                                                                 \n",
      " max_pooling2d_1 (MaxPooling  (None, 64, 64, 32)       0         \n",
      " 2D)                                                             \n",
      "                                                                 \n",
      " conv2d_2 (Conv2D)           (None, 64, 64, 64)        18496     \n",
      "                                                                 \n",
      " max_pooling2d_2 (MaxPooling  (None, 32, 32, 64)       0         \n",
      " 2D)                                                             \n",
      "                                                                 \n",
      " dropout (Dropout)           (None, 32, 32, 64)        0         \n",
      "                                                                 \n",
      " flatten (Flatten)           (None, 65536)             0         \n",
      "                                                                 \n",
      " dense (Dense)               (None, 128)               8388736   \n",
      "                                                                 \n",
      " dense_1 (Dense)             (None, 10)                1290      \n",
      "                                                                 \n",
      "=================================================================\n",
      "Total params: 8,418,666\n",
      "Trainable params: 8,418,666\n",
      "Non-trainable params: 0\n",
      "_________________________________________________________________\n"
     ]
    }
   ],
   "source": [
    "# LOAD MODEL \n",
    "model = keras.models.load_model(\"saved_models/cnn_model\")\n",
    "model.summary()"
   ]
  },
  {
   "cell_type": "code",
   "execution_count": 4,
   "metadata": {},
   "outputs": [
    {
     "name": "stdout",
     "output_type": "stream",
     "text": [
      "Model: \"sequential\"\n",
      "_________________________________________________________________\n",
      " Layer (type)                Output Shape              Param #   \n",
      "=================================================================\n",
      " conv2d (Conv2D)             (None, 256, 256, 32)      896       \n",
      "                                                                 \n",
      " max_pooling2d (MaxPooling2D  (None, 128, 128, 32)     0         \n",
      " )                                                               \n",
      "                                                                 \n",
      " conv2d_1 (Conv2D)           (None, 128, 128, 32)      9248      \n",
      "                                                                 \n",
      " max_pooling2d_1 (MaxPooling  (None, 64, 64, 32)       0         \n",
      " 2D)                                                             \n",
      "                                                                 \n",
      " conv2d_2 (Conv2D)           (None, 64, 64, 64)        18496     \n",
      "                                                                 \n",
      " max_pooling2d_2 (MaxPooling  (None, 32, 32, 64)       0         \n",
      " 2D)                                                             \n",
      "                                                                 \n",
      " dropout (Dropout)           (None, 32, 32, 64)        0         \n",
      "                                                                 \n",
      " flatten (Flatten)           (None, 65536)             0         \n",
      "                                                                 \n",
      " dense (Dense)               (None, 128)               8388736   \n",
      "                                                                 \n",
      " dense_1 (Dense)             (None, 10)                1290      \n",
      "                                                                 \n",
      "=================================================================\n",
      "Total params: 8,418,666\n",
      "Trainable params: 8,418,666\n",
      "Non-trainable params: 0\n",
      "_________________________________________________________________\n"
     ]
    }
   ],
   "source": [
    "model = Sequential()\n",
    "model.add(Conv2D(32,(3,3),padding=\"same\", activation=\"relu\", input_shape=(256,256,3)))\n",
    "model.add(MaxPool2D())\n",
    "\n",
    "model.add(Conv2D(32, (3,3), padding=\"same\", activation=\"relu\"))\n",
    "model.add(MaxPool2D())\n",
    "\n",
    "model.add(Conv2D(64, (3,3), padding=\"same\", activation=\"relu\"))\n",
    "model.add(MaxPool2D())\n",
    "model.add(Dropout(0.4))\n",
    "\n",
    "model.add(Flatten())\n",
    "model.add(Dense(128,activation=\"relu\"))\n",
    "model.add(Dense(y_train.shape[1], activation=\"softmax\"))\n",
    "\n",
    "model.summary()"
   ]
  },
  {
   "cell_type": "code",
   "execution_count": 13,
   "metadata": {},
   "outputs": [],
   "source": [
    "accuracy = []\n",
    "val_accuracy = []\n",
    "val_loss = []\n",
    "loss = []"
   ]
  },
  {
   "cell_type": "code",
   "execution_count": 11,
   "metadata": {},
   "outputs": [],
   "source": [
    "opt = tf.keras.optimizers.Adam(learning_rate=0.0001)\n",
    "model.compile(optimizer = opt , loss='categorical_crossentropy' , metrics = ['accuracy'])"
   ]
  },
  {
   "cell_type": "code",
   "execution_count": 12,
   "metadata": {},
   "outputs": [
    {
     "name": "stdout",
     "output_type": "stream",
     "text": [
      "Epoch 1/50\n",
      "25/25 [==============================] - 36s 1s/step - loss: 2.3031 - accuracy: 0.0964 - val_loss: 2.3024 - val_accuracy: 0.1150\n",
      "Epoch 2/50\n",
      "25/25 [==============================] - 35s 1s/step - loss: 2.3029 - accuracy: 0.0989 - val_loss: 2.3025 - val_accuracy: 0.1200\n",
      "Epoch 3/50\n",
      "25/25 [==============================] - 35s 1s/step - loss: 2.3023 - accuracy: 0.1026 - val_loss: 2.3022 - val_accuracy: 0.1200\n",
      "Epoch 4/50\n",
      "25/25 [==============================] - 35s 1s/step - loss: 2.3000 - accuracy: 0.1114 - val_loss: 2.2986 - val_accuracy: 0.1450\n",
      "Epoch 5/50\n",
      "25/25 [==============================] - 35s 1s/step - loss: 2.2644 - accuracy: 0.1752 - val_loss: 2.2689 - val_accuracy: 0.1350\n",
      "Epoch 6/50\n",
      "25/25 [==============================] - 35s 1s/step - loss: 2.1836 - accuracy: 0.2040 - val_loss: 2.2154 - val_accuracy: 0.1500\n",
      "Epoch 7/50\n",
      "25/25 [==============================] - 35s 1s/step - loss: 2.0590 - accuracy: 0.2516 - val_loss: 2.1817 - val_accuracy: 0.2000\n",
      "Epoch 8/50\n",
      "25/25 [==============================] - 34s 1s/step - loss: 1.9414 - accuracy: 0.2766 - val_loss: 2.1450 - val_accuracy: 0.2500\n",
      "Epoch 9/50\n",
      "25/25 [==============================] - 35s 1s/step - loss: 1.8535 - accuracy: 0.3529 - val_loss: 2.0689 - val_accuracy: 0.2700\n",
      "Epoch 10/50\n",
      "25/25 [==============================] - 35s 1s/step - loss: 1.7538 - accuracy: 0.4080 - val_loss: 2.0281 - val_accuracy: 0.2500\n",
      "Epoch 11/50\n",
      "25/25 [==============================] - 35s 1s/step - loss: 1.6293 - accuracy: 0.4556 - val_loss: 1.9813 - val_accuracy: 0.3000\n",
      "Epoch 12/50\n",
      "25/25 [==============================] - 35s 1s/step - loss: 1.5292 - accuracy: 0.4931 - val_loss: 1.8977 - val_accuracy: 0.3300\n",
      "Epoch 13/50\n",
      "25/25 [==============================] - 35s 1s/step - loss: 1.3965 - accuracy: 0.5232 - val_loss: 1.8906 - val_accuracy: 0.3150\n",
      "Epoch 14/50\n",
      "25/25 [==============================] - 34s 1s/step - loss: 1.2769 - accuracy: 0.5557 - val_loss: 1.9408 - val_accuracy: 0.3050\n",
      "Epoch 15/50\n",
      "25/25 [==============================] - 34s 1s/step - loss: 1.1773 - accuracy: 0.6145 - val_loss: 2.0108 - val_accuracy: 0.3050\n",
      "Epoch 16/50\n",
      "25/25 [==============================] - 35s 1s/step - loss: 1.0790 - accuracy: 0.6608 - val_loss: 1.9880 - val_accuracy: 0.3350\n",
      "Epoch 17/50\n",
      "25/25 [==============================] - 35s 1s/step - loss: 0.9418 - accuracy: 0.6921 - val_loss: 2.0511 - val_accuracy: 0.3250\n",
      "Epoch 18/50\n",
      "25/25 [==============================] - 35s 1s/step - loss: 0.8578 - accuracy: 0.7309 - val_loss: 2.1037 - val_accuracy: 0.3300\n",
      "Epoch 19/50\n",
      "25/25 [==============================] - 35s 1s/step - loss: 0.7981 - accuracy: 0.7584 - val_loss: 2.1431 - val_accuracy: 0.3300\n",
      "Epoch 20/50\n",
      "25/25 [==============================] - 35s 1s/step - loss: 0.6925 - accuracy: 0.7885 - val_loss: 2.2514 - val_accuracy: 0.3500\n",
      "Epoch 21/50\n",
      "25/25 [==============================] - 35s 1s/step - loss: 0.6288 - accuracy: 0.8073 - val_loss: 2.4375 - val_accuracy: 0.3400\n",
      "Epoch 22/50\n",
      "25/25 [==============================] - 35s 1s/step - loss: 0.5790 - accuracy: 0.8198 - val_loss: 2.4888 - val_accuracy: 0.3300\n",
      "Epoch 23/50\n",
      "25/25 [==============================] - 35s 1s/step - loss: 0.4834 - accuracy: 0.8573 - val_loss: 2.6160 - val_accuracy: 0.3200\n",
      "Epoch 24/50\n",
      "25/25 [==============================] - 35s 1s/step - loss: 0.4416 - accuracy: 0.8686 - val_loss: 2.5611 - val_accuracy: 0.3200\n",
      "Epoch 25/50\n",
      "25/25 [==============================] - 35s 1s/step - loss: 0.3683 - accuracy: 0.8924 - val_loss: 2.8511 - val_accuracy: 0.3350\n",
      "Epoch 26/50\n",
      "25/25 [==============================] - 35s 1s/step - loss: 0.3264 - accuracy: 0.9099 - val_loss: 2.8204 - val_accuracy: 0.3500\n",
      "Epoch 27/50\n",
      "25/25 [==============================] - 34s 1s/step - loss: 0.2968 - accuracy: 0.9124 - val_loss: 3.0544 - val_accuracy: 0.3600\n",
      "Epoch 28/50\n",
      "25/25 [==============================] - 35s 1s/step - loss: 0.2783 - accuracy: 0.9212 - val_loss: 2.8581 - val_accuracy: 0.3600\n",
      "Epoch 29/50\n",
      "25/25 [==============================] - 35s 1s/step - loss: 0.2537 - accuracy: 0.9299 - val_loss: 3.2154 - val_accuracy: 0.3500\n",
      "Epoch 30/50\n",
      "25/25 [==============================] - 34s 1s/step - loss: 0.2343 - accuracy: 0.9212 - val_loss: 3.1059 - val_accuracy: 0.3500\n",
      "Epoch 31/50\n",
      "25/25 [==============================] - 34s 1s/step - loss: 0.2019 - accuracy: 0.9474 - val_loss: 3.2363 - val_accuracy: 0.3550\n",
      "Epoch 32/50\n",
      "25/25 [==============================] - 34s 1s/step - loss: 0.1781 - accuracy: 0.9399 - val_loss: 3.3216 - val_accuracy: 0.3450\n",
      "Epoch 33/50\n",
      "25/25 [==============================] - 34s 1s/step - loss: 0.1575 - accuracy: 0.9587 - val_loss: 3.3107 - val_accuracy: 0.3800\n",
      "Epoch 34/50\n",
      "25/25 [==============================] - 33s 1s/step - loss: 0.1405 - accuracy: 0.9612 - val_loss: 3.5602 - val_accuracy: 0.3500\n",
      "Epoch 35/50\n",
      "25/25 [==============================] - 33s 1s/step - loss: 0.1134 - accuracy: 0.9762 - val_loss: 3.6951 - val_accuracy: 0.3600\n",
      "Epoch 36/50\n",
      "25/25 [==============================] - 34s 1s/step - loss: 0.1235 - accuracy: 0.9687 - val_loss: 3.7444 - val_accuracy: 0.3550\n",
      "Epoch 37/50\n",
      "25/25 [==============================] - 35s 1s/step - loss: 0.1090 - accuracy: 0.9637 - val_loss: 3.5359 - val_accuracy: 0.3700\n",
      "Epoch 38/50\n",
      "25/25 [==============================] - 18s 689ms/step - loss: 0.1074 - accuracy: 0.9687 - val_loss: 3.9254 - val_accuracy: 0.3650\n",
      "Epoch 39/50\n",
      "25/25 [==============================] - 17s 701ms/step - loss: 0.0989 - accuracy: 0.9775 - val_loss: 3.7484 - val_accuracy: 0.3700\n",
      "Epoch 40/50\n",
      "25/25 [==============================] - 18s 728ms/step - loss: 0.0996 - accuracy: 0.9812 - val_loss: 3.9575 - val_accuracy: 0.3550\n",
      "Epoch 41/50\n",
      "25/25 [==============================] - 18s 731ms/step - loss: 0.0870 - accuracy: 0.9787 - val_loss: 3.9683 - val_accuracy: 0.3450\n",
      "Epoch 42/50\n",
      "25/25 [==============================] - 18s 730ms/step - loss: 0.0641 - accuracy: 0.9875 - val_loss: 4.1963 - val_accuracy: 0.3550\n",
      "Epoch 43/50\n",
      "25/25 [==============================] - 18s 703ms/step - loss: 0.0806 - accuracy: 0.9800 - val_loss: 3.7508 - val_accuracy: 0.3750\n",
      "Epoch 44/50\n",
      "25/25 [==============================] - 18s 712ms/step - loss: 0.0607 - accuracy: 0.9862 - val_loss: 3.8301 - val_accuracy: 0.3650\n",
      "Epoch 45/50\n",
      "25/25 [==============================] - 18s 717ms/step - loss: 0.0565 - accuracy: 0.9887 - val_loss: 3.9909 - val_accuracy: 0.3650\n",
      "Epoch 46/50\n",
      "25/25 [==============================] - 18s 713ms/step - loss: 0.0505 - accuracy: 0.9875 - val_loss: 4.2405 - val_accuracy: 0.3700\n",
      "Epoch 47/50\n",
      "25/25 [==============================] - 19s 772ms/step - loss: 0.0505 - accuracy: 0.9862 - val_loss: 4.1543 - val_accuracy: 0.3650\n",
      "Epoch 48/50\n",
      "25/25 [==============================] - 19s 765ms/step - loss: 0.0583 - accuracy: 0.9900 - val_loss: 4.1283 - val_accuracy: 0.3450\n",
      "Epoch 49/50\n",
      "25/25 [==============================] - 19s 762ms/step - loss: 0.0445 - accuracy: 0.9875 - val_loss: 4.4466 - val_accuracy: 0.3700\n",
      "Epoch 50/50\n",
      "25/25 [==============================] - 18s 736ms/step - loss: 0.0368 - accuracy: 0.9900 - val_loss: 4.4881 - val_accuracy: 0.3650\n"
     ]
    }
   ],
   "source": [
    "epochs = 50\n",
    "history = model.fit(X_train,y_train,epochs = epochs, validation_data = (X_test, y_test))\n",
    "model.save(\"saved_models/cnn_model\")"
   ]
  },
  {
   "cell_type": "code",
   "execution_count": 14,
   "metadata": {},
   "outputs": [],
   "source": [
    "accuracy.extend(history.history['accuracy'])\n",
    "val_accuracy.extend(history.history['val_accuracy'])\n",
    "loss.extend(history.history['loss'])\n",
    "val_loss.extend(history.history['val_loss'])"
   ]
  },
  {
   "cell_type": "code",
   "execution_count": 17,
   "metadata": {},
   "outputs": [
    {
     "data": {
      "text/plain": [
       "[<matplotlib.lines.Line2D at 0x22724264f48>]"
      ]
     },
     "execution_count": 17,
     "metadata": {},
     "output_type": "execute_result"
    },
    {
     "data": {
      "image/png": "[encoded data removed]",
      "text/plain": [
       "<Figure size 864x288 with 1 Axes>"
      ]
     },
     "metadata": {
      "needs_background": "light"
     },
     "output_type": "display_data"
    }
   ],
   "source": [
    "# Accuracy\n",
    "plt.figure(figsize=(12,4))\n",
    "plt.plot(accuracy,color='red')\n",
    "plt.plot(val_accuracy,color='blue')"
   ]
  },
  {
   "cell_type": "code",
   "execution_count": 18,
   "metadata": {},
   "outputs": [
    {
     "data": {
      "text/plain": [
       "[<matplotlib.lines.Line2D at 0x227246ae908>]"
      ]
     },
     "execution_count": 18,
     "metadata": {},
     "output_type": "execute_result"
    },
    {
     "data": {
      "image/png": "[encoded data removed]",
      "text/plain": [
       "<Figure size 864x288 with 1 Axes>"
      ]
     },
     "metadata": {
      "needs_background": "light"
     },
     "output_type": "display_data"
    }
   ],
   "source": [
    "# Loss\n",
    "plt.figure(figsize=(12,4))\n",
    "plt.plot(loss,color='red')\n",
    "plt.plot(val_loss,color='blue')"
   ]
  },
  {
   "cell_type": "code",
   "execution_count": 19,
   "metadata": {},
   "outputs": [],
   "source": [
    "y_pred = model.predict(X_test)\n",
    "y_pred = np.array([[round(j) for j in i] for i in y_pred],dtype='float64')"
   ]
  },
  {
   "cell_type": "code",
   "execution_count": 20,
   "metadata": {},
   "outputs": [
    {
     "data": {
      "text/plain": [
       "0.33"
      ]
     },
     "execution_count": 20,
     "metadata": {},
     "output_type": "execute_result"
    }
   ],
   "source": [
    "inputs.accuracy(y_pred,y_test)"
   ]
  },
  {
   "cell_type": "code",
   "execution_count": 26,
   "metadata": {},
   "outputs": [
    {
     "ename": "AttributeError",
     "evalue": "module 'inputs' has no attribute 'confusionMatrix'",
     "output_type": "error",
     "traceback": [
      "\u001b[1;31m---------------------------------------------------------------------------\u001b[0m",
      "\u001b[1;31mAttributeError\u001b[0m                            Traceback (most recent call last)",
      "\u001b[1;32m<ipython-input-26-ba809e6783ee>\u001b[0m in \u001b[0;36m<module>\u001b[1;34m\u001b[0m\n\u001b[1;32m----> 1\u001b[1;33m \u001b[0minputs\u001b[0m\u001b[1;33m.\u001b[0m\u001b[0mconfusionMatrix\u001b[0m\u001b[1;33m(\u001b[0m\u001b[0minputs\u001b[0m\u001b[1;33m.\u001b[0m\u001b[0mdecodeY\u001b[0m\u001b[1;33m(\u001b[0m\u001b[0my_test\u001b[0m\u001b[1;33m)\u001b[0m\u001b[1;33m,\u001b[0m \u001b[0minputs\u001b[0m\u001b[1;33m.\u001b[0m\u001b[0mdecodeY\u001b[0m\u001b[1;33m(\u001b[0m\u001b[0my_pred\u001b[0m\u001b[1;33m)\u001b[0m\u001b[1;33m)\u001b[0m\u001b[1;33m\u001b[0m\u001b[1;33m\u001b[0m\u001b[0m\n\u001b[0m",
      "\u001b[1;31mAttributeError\u001b[0m: module 'inputs' has no attribute 'confusionMatrix'"
     ]
    }
   ],
   "source": [
    "inputs.confusionMatrix(inputs.decodeY(y_test), inputs.decodeY(y_pred))"
   ]
  },
  {
   "cell_type": "code",
   "execution_count": 24,
   "metadata": {},
   "outputs": [
    {
     "name": "stdout",
     "output_type": "stream",
     "text": [
      "INFO:tensorflow:Assets written to: saved_models/cnn_model\\assets\n"
     ]
    }
   ],
   "source": []
  },
  {
   "cell_type": "code",
   "execution_count": null,
   "metadata": {},
   "outputs": [],
   "source": []
  }
 ],
 "metadata": {
  "kernelspec": {
   "display_name": "Python 3",
   "language": "python",
   "name": "python3"
  },
  "language_info": {
   "codemirror_mode": {
    "name": "ipython",
    "version": 3
   },
   "file_extension": ".py",
   "mimetype": "text/x-python",
   "name": "python",
   "nbconvert_exporter": "python",
   "pygments_lexer": "ipython3",
   "version": "3.7.4"
  }
 },
 "nbformat": 4,
 "nbformat_minor": 2
}
