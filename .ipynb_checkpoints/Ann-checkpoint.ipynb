{
 "cells": [
  {
   "cell_type": "code",
   "execution_count": 85,
   "metadata": {},
   "outputs": [],
   "source": [
    "import inputs\n",
    "import numpy as np\n",
    "import pandas as pd\n",
    "import matplotlib.pyplot as plt\n",
    "import os\n",
    "from tqdm import tqdm\n",
    "from tensorflow.keras.models import Sequential\n",
    "from tensorflow.keras.layers import Dense, Dropout, Activation, Flatten\n",
    "from tensorflow.keras.optimizers import Adam\n",
    "from sklearn import metrics\n",
    "from tensorflow.keras.callbacks import ModelCheckpoint\n",
    "from datetime import datetime"
   ]
  },
  {
   "cell_type": "code",
   "execution_count": 86,
   "metadata": {},
   "outputs": [
    {
     "name": "stderr",
     "output_type": "stream",
     "text": [
      "F:\\Anaconda\\lib\\site-packages\\sklearn\\preprocessing\\_encoders.py:110: DeprecationWarning: `np.int` is a deprecated alias for the builtin `int`. To silence this warning, use `int` by itself. Doing this will not modify any behavior and is safe. When replacing `np.int`, you may wish to use e.g. `np.int64` or `np.int32` to specify the precision. If you wish to review your current use, check the release note link for additional information.\n",
      "Deprecated in NumPy 1.20; for more details and guidance: https://numpy.org/devdocs/release/1.20.0-notes.html#deprecations\n",
      "  X_int = np.zeros((n_samples, n_features), dtype=np.int)\n",
      "F:\\Anaconda\\lib\\site-packages\\sklearn\\preprocessing\\_encoders.py:111: DeprecationWarning: `np.bool` is a deprecated alias for the builtin `bool`. To silence this warning, use `bool` by itself. Doing this will not modify any behavior and is safe. If you specifically wanted the numpy scalar type, use `np.bool_` here.\n",
      "Deprecated in NumPy 1.20; for more details and guidance: https://numpy.org/devdocs/release/1.20.0-notes.html#deprecations\n",
      "  X_mask = np.ones((n_samples, n_features), dtype=np.bool)\n"
     ]
    }
   ],
   "source": [
    "X_train, X_test, y_train, y_test = inputs.getTrainTestNums()"
   ]
  },
  {
   "cell_type": "code",
   "execution_count": 87,
   "metadata": {},
   "outputs": [],
   "source": [
    "accuracy = []\n",
    "val_accuracy = []\n",
    "val_loss = []\n",
    "loss = []"
   ]
  },
  {
   "cell_type": "code",
   "execution_count": 88,
   "metadata": {},
   "outputs": [],
   "source": [
    "model = Sequential()\n",
    "\n",
    "\n",
    "# first layer\n",
    "model.add(Dense(256,input_shape=(X_train.shape[1],)))\n",
    "model.add(Activation('relu'))\n",
    "model.add(Dropout(0.5))\n",
    "\n",
    "# second layer\n",
    "model.add(Dense(512))\n",
    "model.add(Activation('relu'))\n",
    "model.add(Dropout(0.5))\n",
    "\n",
    "# third layer \n",
    "model.add(Dense(128))\n",
    "model.add(Activation('relu'))\n",
    "model.add(Dropout(0.5))\n",
    "\n",
    "# final layer\n",
    "model.add(Dense(y_train.shape[1]))\n",
    "model.add(Activation('softmax'))"
   ]
  },
  {
   "cell_type": "code",
   "execution_count": 89,
   "metadata": {},
   "outputs": [],
   "source": [
    "model.compile(loss='categorical_crossentropy',metrics=['accuracy'],optimizer='adam')"
   ]
  },
  {
   "cell_type": "code",
   "execution_count": 90,
   "metadata": {},
   "outputs": [
    {
     "name": "stdout",
     "output_type": "stream",
     "text": [
      "Epoch 1/50\n",
      "5/7 [====================>.........] - ETA: 10s - loss: 2.5214 - accuracy: 0.109 - ETA: 0s - loss: 2.3593 - accuracy: 0.1344 \n",
      "Epoch 00001: saving model to saved_models\\genre_classification_scaled.hdf5\n",
      "7/7 [==============================] - 2s 126ms/step - loss: 2.3308 - accuracy: 0.1475 - val_loss: 2.0264 - val_accuracy: 0.3400\n",
      "Epoch 2/50\n",
      "6/7 [========================>.....] - ETA: 0s - loss: 2.2375 - accuracy: 0.19 - ETA: 0s - loss: 2.0772 - accuracy: 0.2539\n",
      "Epoch 00002: saving model to saved_models\\genre_classification_scaled.hdf5\n",
      "7/7 [==============================] - 0s 34ms/step - loss: 2.0763 - accuracy: 0.2562 - val_loss: 1.8686 - val_accuracy: 0.3550\n",
      "Epoch 3/50\n",
      "7/7 [==============================] - ETA: 0s - loss: 1.9141 - accuracy: 0.32 - ETA: 0s - loss: 1.8580 - accuracy: 0.3338\n",
      "Epoch 00003: saving model to saved_models\\genre_classification_scaled.hdf5\n",
      "7/7 [==============================] - 0s 41ms/step - loss: 1.8580 - accuracy: 0.3338 - val_loss: 1.7515 - val_accuracy: 0.3500\n",
      "Epoch 4/50\n",
      "5/7 [====================>.........] - ETA: 0s - loss: 1.8039 - accuracy: 0.42 - ETA: 0s - loss: 1.7907 - accuracy: 0.3500\n",
      "Epoch 00004: saving model to saved_models\\genre_classification_scaled.hdf5\n",
      "7/7 [==============================] - 0s 42ms/step - loss: 1.7687 - accuracy: 0.3537 - val_loss: 1.6399 - val_accuracy: 0.3900\n",
      "Epoch 5/50\n",
      "7/7 [==============================] - ETA: 0s - loss: 1.5414 - accuracy: 0.41 - ETA: 0s - loss: 1.6179 - accuracy: 0.40 - ETA: 0s - loss: 1.6625 - accuracy: 0.3837\n",
      "Epoch 00005: saving model to saved_models\\genre_classification_scaled.hdf5\n",
      "7/7 [==============================] - 0s 54ms/step - loss: 1.6625 - accuracy: 0.3837 - val_loss: 1.5500 - val_accuracy: 0.4300\n",
      "Epoch 6/50\n",
      "5/7 [====================>.........] - ETA: 0s - loss: 1.6880 - accuracy: 0.36 - ETA: 0s - loss: 1.6007 - accuracy: 0.4172\n",
      "Epoch 00006: saving model to saved_models\\genre_classification_scaled.hdf5\n",
      "7/7 [==============================] - 0s 35ms/step - loss: 1.5989 - accuracy: 0.4212 - val_loss: 1.4840 - val_accuracy: 0.4400\n",
      "Epoch 7/50\n",
      "6/7 [========================>.....] - ETA: 0s - loss: 1.5325 - accuracy: 0.39 - ETA: 0s - loss: 1.5247 - accuracy: 0.4648\n",
      "Epoch 00007: saving model to saved_models\\genre_classification_scaled.hdf5\n",
      "7/7 [==============================] - 0s 51ms/step - loss: 1.5321 - accuracy: 0.4575 - val_loss: 1.4244 - val_accuracy: 0.4500\n",
      "Epoch 8/50\n",
      "4/7 [================>.............] - ETA: 0s - loss: 1.4768 - accuracy: 0.46 - ETA: 0s - loss: 1.4057 - accuracy: 0.5000\n",
      "Epoch 00008: saving model to saved_models\\genre_classification_scaled.hdf5\n",
      "7/7 [==============================] - 0s 44ms/step - loss: 1.4028 - accuracy: 0.4812 - val_loss: 1.3683 - val_accuracy: 0.4950\n",
      "Epoch 9/50\n",
      "4/7 [================>.............] - ETA: 0s - loss: 1.3625 - accuracy: 0.44 - ETA: 0s - loss: 1.3820 - accuracy: 0.5039\n",
      "Epoch 00009: saving model to saved_models\\genre_classification_scaled.hdf5\n",
      "7/7 [==============================] - 0s 42ms/step - loss: 1.4150 - accuracy: 0.4837 - val_loss: 1.3320 - val_accuracy: 0.4700\n",
      "Epoch 10/50\n",
      "1/7 [===>..........................] - ETA: 0s - loss: 1.3683 - accuracy: 0.5469\n",
      "Epoch 00010: saving model to saved_models\\genre_classification_scaled.hdf5\n",
      "7/7 [==============================] - 0s 27ms/step - loss: 1.3354 - accuracy: 0.5288 - val_loss: 1.2866 - val_accuracy: 0.5250\n",
      "Epoch 11/50\n",
      "5/7 [====================>.........] - ETA: 0s - loss: 1.3044 - accuracy: 0.53 - ETA: 0s - loss: 1.2559 - accuracy: 0.5625\n",
      "Epoch 00011: saving model to saved_models\\genre_classification_scaled.hdf5\n",
      "7/7 [==============================] - 0s 30ms/step - loss: 1.2680 - accuracy: 0.5562 - val_loss: 1.2663 - val_accuracy: 0.5200\n",
      "Epoch 12/50\n",
      "1/7 [===>..........................] - ETA: 0s - loss: 1.2559 - accuracy: 0.5312\n",
      "Epoch 00012: saving model to saved_models\\genre_classification_scaled.hdf5\n",
      "7/7 [==============================] - 0s 44ms/step - loss: 1.2527 - accuracy: 0.5562 - val_loss: 1.2352 - val_accuracy: 0.5550\n",
      "Epoch 13/50\n",
      "7/7 [==============================] - ETA: 0s - loss: 1.1775 - accuracy: 0.59 - ETA: 0s - loss: 1.1657 - accuracy: 0.59 - ETA: 0s - loss: 1.1853 - accuracy: 0.5838\n",
      "Epoch 00013: saving model to saved_models\\genre_classification_scaled.hdf5\n",
      "7/7 [==============================] - 0s 49ms/step - loss: 1.1853 - accuracy: 0.5838 - val_loss: 1.1951 - val_accuracy: 0.5650\n",
      "Epoch 14/50\n",
      "6/7 [========================>.....] - ETA: 0s - loss: 1.1743 - accuracy: 0.56 - ETA: 0s - loss: 1.1279 - accuracy: 0.5977\n",
      "Epoch 00014: saving model to saved_models\\genre_classification_scaled.hdf5\n",
      "7/7 [==============================] - 0s 40ms/step - loss: 1.1489 - accuracy: 0.5938 - val_loss: 1.1783 - val_accuracy: 0.5700\n",
      "Epoch 15/50\n",
      "7/7 [==============================] - ETA: 0s - loss: 1.0718 - accuracy: 0.64 - ETA: 0s - loss: 1.1629 - accuracy: 0.59 - ETA: 0s - loss: 1.1229 - accuracy: 0.6050\n",
      "Epoch 00015: saving model to saved_models\\genre_classification_scaled.hdf5\n",
      "7/7 [==============================] - 0s 49ms/step - loss: 1.1229 - accuracy: 0.6050 - val_loss: 1.1537 - val_accuracy: 0.5750\n",
      "Epoch 16/50\n",
      "4/7 [================>.............] - ETA: 0s - loss: 1.1024 - accuracy: 0.61 - ETA: 0s - loss: 1.0987 - accuracy: 0.6133\n",
      "Epoch 00016: saving model to saved_models\\genre_classification_scaled.hdf5\n",
      "7/7 [==============================] - 0s 41ms/step - loss: 1.1162 - accuracy: 0.6025 - val_loss: 1.1334 - val_accuracy: 0.5800\n",
      "Epoch 17/50\n",
      "7/7 [==============================] - ETA: 0s - loss: 1.1460 - accuracy: 0.62 - ETA: 0s - loss: 1.0697 - accuracy: 0.62 - ETA: 0s - loss: 1.0378 - accuracy: 0.6413\n",
      "Epoch 00017: saving model to saved_models\\genre_classification_scaled.hdf5\n",
      "7/7 [==============================] - 0s 47ms/step - loss: 1.0378 - accuracy: 0.6413 - val_loss: 1.1129 - val_accuracy: 0.5950\n",
      "Epoch 18/50\n",
      "5/7 [====================>.........] - ETA: 0s - loss: 1.0679 - accuracy: 0.66 - ETA: 0s - loss: 1.0114 - accuracy: 0.6484\n",
      "Epoch 00018: saving model to saved_models\\genre_classification_scaled.hdf5\n",
      "7/7 [==============================] - 0s 39ms/step - loss: 1.0239 - accuracy: 0.6388 - val_loss: 1.0833 - val_accuracy: 0.5950\n",
      "Epoch 19/50\n",
      "7/7 [==============================] - ETA: 0s - loss: 0.9992 - accuracy: 0.64 - ETA: 0s - loss: 1.0212 - accuracy: 0.6250\n",
      "Epoch 00019: saving model to saved_models\\genre_classification_scaled.hdf5\n",
      "7/7 [==============================] - 0s 31ms/step - loss: 1.0212 - accuracy: 0.6250 - val_loss: 1.0854 - val_accuracy: 0.6000\n",
      "Epoch 20/50\n",
      "5/7 [====================>.........] - ETA: 0s - loss: 0.9312 - accuracy: 0.67 - ETA: 0s - loss: 0.9823 - accuracy: 0.6625\n",
      "Epoch 00020: saving model to saved_models\\genre_classification_scaled.hdf5\n",
      "7/7 [==============================] - 0s 48ms/step - loss: 0.9731 - accuracy: 0.6687 - val_loss: 1.0579 - val_accuracy: 0.6000\n",
      "Epoch 21/50\n",
      "7/7 [==============================] - ETA: 0s - loss: 0.8757 - accuracy: 0.69 - ETA: 0s - loss: 0.9120 - accuracy: 0.68 - ETA: 0s - loss: 0.9234 - accuracy: 0.6700\n",
      "Epoch 00021: saving model to saved_models\\genre_classification_scaled.hdf5\n",
      "7/7 [==============================] - 0s 55ms/step - loss: 0.9234 - accuracy: 0.6700 - val_loss: 1.0430 - val_accuracy: 0.6050\n",
      "Epoch 22/50\n",
      "4/7 [================>.............] - ETA: 0s - loss: 0.8337 - accuracy: 0.72 - ETA: 0s - loss: 0.8526 - accuracy: 0.7148\n",
      "Epoch 00022: saving model to saved_models\\genre_classification_scaled.hdf5\n",
      "7/7 [==============================] - 0s 29ms/step - loss: 0.8977 - accuracy: 0.6925 - val_loss: 1.0313 - val_accuracy: 0.6100\n",
      "Epoch 23/50\n",
      "1/7 [===>..........................] - ETA: 0s - loss: 0.7957 - accuracy: 0.7422\n",
      "Epoch 00023: saving model to saved_models\\genre_classification_scaled.hdf5\n",
      "7/7 [==============================] - 0s 41ms/step - loss: 0.8900 - accuracy: 0.7075 - val_loss: 1.0239 - val_accuracy: 0.6200\n",
      "Epoch 24/50\n",
      "6/7 [========================>.....] - ETA: 0s - loss: 0.8974 - accuracy: 0.70 - ETA: 0s - loss: 0.9180 - accuracy: 0.6745\n",
      "Epoch 00024: saving model to saved_models\\genre_classification_scaled.hdf5\n",
      "7/7 [==============================] - 0s 43ms/step - loss: 0.9244 - accuracy: 0.6750 - val_loss: 1.0114 - val_accuracy: 0.6150\n"
     ]
    },
    {
     "name": "stdout",
     "output_type": "stream",
     "text": [
      "Epoch 25/50\n",
      "4/7 [================>.............] - ETA: 0s - loss: 0.8090 - accuracy: 0.71 - ETA: 0s - loss: 0.8479 - accuracy: 0.6992\n",
      "Epoch 00025: saving model to saved_models\\genre_classification_scaled.hdf5\n",
      "7/7 [==============================] - 0s 43ms/step - loss: 0.8858 - accuracy: 0.6800 - val_loss: 0.9888 - val_accuracy: 0.6300\n",
      "Epoch 26/50\n",
      "1/7 [===>..........................] - ETA: 0s - loss: 0.7899 - accuracy: 0.6875\n",
      "Epoch 00026: saving model to saved_models\\genre_classification_scaled.hdf5\n",
      "7/7 [==============================] - 0s 30ms/step - loss: 0.8107 - accuracy: 0.7150 - val_loss: 0.9916 - val_accuracy: 0.6250\n",
      "Epoch 27/50\n",
      "6/7 [========================>.....] - ETA: 0s - loss: 0.9246 - accuracy: 0.64 - ETA: 0s - loss: 0.8000 - accuracy: 0.7083\n",
      "Epoch 00027: saving model to saved_models\\genre_classification_scaled.hdf5\n",
      "7/7 [==============================] - 0s 31ms/step - loss: 0.8083 - accuracy: 0.7063 - val_loss: 0.9687 - val_accuracy: 0.6500\n",
      "Epoch 28/50\n",
      "1/7 [===>..........................] - ETA: 0s - loss: 0.8606 - accuracy: 0.6875\n",
      "Epoch 00028: saving model to saved_models\\genre_classification_scaled.hdf5\n",
      "7/7 [==============================] - 0s 34ms/step - loss: 0.7946 - accuracy: 0.7312 - val_loss: 0.9579 - val_accuracy: 0.6600\n",
      "Epoch 29/50\n",
      "4/7 [================>.............] - ETA: 0s - loss: 0.9125 - accuracy: 0.66 - ETA: 0s - loss: 0.8578 - accuracy: 0.7363\n",
      "Epoch 00029: saving model to saved_models\\genre_classification_scaled.hdf5\n",
      "7/7 [==============================] - 0s 49ms/step - loss: 0.8342 - accuracy: 0.7287 - val_loss: 0.9752 - val_accuracy: 0.6550\n",
      "Epoch 30/50\n",
      "4/7 [================>.............] - ETA: 0s - loss: 0.7713 - accuracy: 0.72 - ETA: 0s - loss: 0.8250 - accuracy: 0.7070\n",
      "Epoch 00030: saving model to saved_models\\genre_classification_scaled.hdf5\n",
      "7/7 [==============================] - 0s 43ms/step - loss: 0.7938 - accuracy: 0.7175 - val_loss: 0.9569 - val_accuracy: 0.6500\n",
      "Epoch 31/50\n",
      "3/7 [===========>..................] - ETA: 0s - loss: 0.9003 - accuracy: 0.69 - ETA: 0s - loss: 0.7743 - accuracy: 0.7240\n",
      "Epoch 00031: saving model to saved_models\\genre_classification_scaled.hdf5\n",
      "7/7 [==============================] - 0s 41ms/step - loss: 0.7499 - accuracy: 0.7287 - val_loss: 0.9407 - val_accuracy: 0.6550\n",
      "Epoch 32/50\n",
      "6/7 [========================>.....] - ETA: 0s - loss: 0.7735 - accuracy: 0.72 - ETA: 0s - loss: 0.7444 - accuracy: 0.7370\n",
      "Epoch 00032: saving model to saved_models\\genre_classification_scaled.hdf5\n",
      "7/7 [==============================] - 0s 34ms/step - loss: 0.7544 - accuracy: 0.7325 - val_loss: 0.9465 - val_accuracy: 0.6550\n",
      "Epoch 33/50\n",
      "1/7 [===>..........................] - ETA: 0s - loss: 0.7731 - accuracy: 0.7266\n",
      "Epoch 00033: saving model to saved_models\\genre_classification_scaled.hdf5\n",
      "7/7 [==============================] - 0s 39ms/step - loss: 0.7129 - accuracy: 0.7450 - val_loss: 0.9401 - val_accuracy: 0.6550\n",
      "Epoch 34/50\n",
      "5/7 [====================>.........] - ETA: 0s - loss: 0.7009 - accuracy: 0.78 - ETA: 0s - loss: 0.7341 - accuracy: 0.7437\n",
      "Epoch 00034: saving model to saved_models\\genre_classification_scaled.hdf5\n",
      "7/7 [==============================] - 0s 39ms/step - loss: 0.7383 - accuracy: 0.7475 - val_loss: 0.9251 - val_accuracy: 0.6600\n",
      "Epoch 35/50\n",
      "5/7 [====================>.........] - ETA: 0s - loss: 0.7323 - accuracy: 0.71 - ETA: 0s - loss: 0.6555 - accuracy: 0.7641\n",
      "Epoch 00035: saving model to saved_models\\genre_classification_scaled.hdf5\n",
      "7/7 [==============================] - 0s 45ms/step - loss: 0.6704 - accuracy: 0.7613 - val_loss: 0.9292 - val_accuracy: 0.6550\n",
      "Epoch 36/50\n",
      "7/7 [==============================] - ETA: 0s - loss: 0.5734 - accuracy: 0.81 - ETA: 0s - loss: 0.6398 - accuracy: 0.7750\n",
      "Epoch 00036: saving model to saved_models\\genre_classification_scaled.hdf5\n",
      "7/7 [==============================] - 0s 40ms/step - loss: 0.6398 - accuracy: 0.7750 - val_loss: 0.9156 - val_accuracy: 0.6700\n",
      "Epoch 37/50\n",
      "6/7 [========================>.....] - ETA: 0s - loss: 0.7080 - accuracy: 0.76 - ETA: 0s - loss: 0.6575 - accuracy: 0.7708\n",
      "Epoch 00037: saving model to saved_models\\genre_classification_scaled.hdf5\n",
      "7/7 [==============================] - 0s 40ms/step - loss: 0.6709 - accuracy: 0.7650 - val_loss: 0.9227 - val_accuracy: 0.6650\n",
      "Epoch 38/50\n",
      "4/7 [================>.............] - ETA: 0s - loss: 0.5651 - accuracy: 0.77 - ETA: 0s - loss: 0.5833 - accuracy: 0.7910\n",
      "Epoch 00038: saving model to saved_models\\genre_classification_scaled.hdf5\n",
      "7/7 [==============================] - 0s 50ms/step - loss: 0.6394 - accuracy: 0.7775 - val_loss: 0.9134 - val_accuracy: 0.6650\n",
      "Epoch 39/50\n",
      "6/7 [========================>.....] - ETA: 0s - loss: 0.6080 - accuracy: 0.76 - ETA: 0s - loss: 0.6011 - accuracy: 0.7852\n",
      "Epoch 00039: saving model to saved_models\\genre_classification_scaled.hdf5\n",
      "7/7 [==============================] - 0s 61ms/step - loss: 0.6147 - accuracy: 0.7825 - val_loss: 0.9227 - val_accuracy: 0.6550\n",
      "Epoch 40/50\n",
      "4/7 [================>.............] - ETA: 0s - loss: 0.6082 - accuracy: 0.82 - ETA: 0s - loss: 0.6186 - accuracy: 0.7832\n",
      "Epoch 00040: saving model to saved_models\\genre_classification_scaled.hdf5\n",
      "7/7 [==============================] - 0s 34ms/step - loss: 0.6128 - accuracy: 0.7887 - val_loss: 0.9099 - val_accuracy: 0.6700\n",
      "Epoch 41/50\n",
      "6/7 [========================>.....] - ETA: 0s - loss: 0.5640 - accuracy: 0.79 - ETA: 0s - loss: 0.6109 - accuracy: 0.7682\n",
      "Epoch 00041: saving model to saved_models\\genre_classification_scaled.hdf5\n",
      "7/7 [==============================] - 0s 39ms/step - loss: 0.6120 - accuracy: 0.7700 - val_loss: 0.9211 - val_accuracy: 0.6800\n",
      "Epoch 42/50\n",
      "7/7 [==============================] - ETA: 0s - loss: 0.6169 - accuracy: 0.77 - ETA: 0s - loss: 0.6364 - accuracy: 0.7900\n",
      "Epoch 00042: saving model to saved_models\\genre_classification_scaled.hdf5\n",
      "7/7 [==============================] - 0s 47ms/step - loss: 0.6364 - accuracy: 0.7900 - val_loss: 0.9253 - val_accuracy: 0.6750\n",
      "Epoch 43/50\n",
      "7/7 [==============================] - ETA: 0s - loss: 0.5586 - accuracy: 0.78 - ETA: 0s - loss: 0.5817 - accuracy: 0.78 - ETA: 0s - loss: 0.6157 - accuracy: 0.7763\n",
      "Epoch 00043: saving model to saved_models\\genre_classification_scaled.hdf5\n",
      "7/7 [==============================] - 0s 50ms/step - loss: 0.6157 - accuracy: 0.7763 - val_loss: 0.9240 - val_accuracy: 0.6600\n",
      "Epoch 44/50\n",
      "7/7 [==============================] - ETA: 0s - loss: 0.5637 - accuracy: 0.82 - ETA: 0s - loss: 0.6224 - accuracy: 0.7975\n",
      "Epoch 00044: saving model to saved_models\\genre_classification_scaled.hdf5\n",
      "7/7 [==============================] - 0s 32ms/step - loss: 0.6224 - accuracy: 0.7975 - val_loss: 0.9163 - val_accuracy: 0.6700\n",
      "Epoch 45/50\n",
      "6/7 [========================>.....] - ETA: 0s - loss: 0.5395 - accuracy: 0.81 - ETA: 0s - loss: 0.5536 - accuracy: 0.8151\n",
      "Epoch 00045: saving model to saved_models\\genre_classification_scaled.hdf5\n",
      "7/7 [==============================] - 0s 31ms/step - loss: 0.5651 - accuracy: 0.8087 - val_loss: 0.9244 - val_accuracy: 0.6950\n",
      "Epoch 46/50\n",
      "7/7 [==============================] - ETA: 0s - loss: 0.5570 - accuracy: 0.78 - ETA: 0s - loss: 0.5958 - accuracy: 0.7925\n",
      "Epoch 00046: saving model to saved_models\\genre_classification_scaled.hdf5\n",
      "7/7 [==============================] - 0s 51ms/step - loss: 0.5958 - accuracy: 0.7925 - val_loss: 0.9245 - val_accuracy: 0.6950\n",
      "Epoch 47/50\n",
      "5/7 [====================>.........] - ETA: 0s - loss: 0.5920 - accuracy: 0.82 - ETA: 0s - loss: 0.5844 - accuracy: 0.7953\n",
      "Epoch 00047: saving model to saved_models\\genre_classification_scaled.hdf5\n",
      "7/7 [==============================] - 0s 47ms/step - loss: 0.5602 - accuracy: 0.8050 - val_loss: 0.9450 - val_accuracy: 0.7000\n",
      "Epoch 48/50\n",
      "7/7 [==============================] - ETA: 0s - loss: 0.4382 - accuracy: 0.84 - ETA: 0s - loss: 0.5119 - accuracy: 0.83 - ETA: 0s - loss: 0.5562 - accuracy: 0.8188\n",
      "Epoch 00048: saving model to saved_models\\genre_classification_scaled.hdf5\n",
      "7/7 [==============================] - 0s 44ms/step - loss: 0.5562 - accuracy: 0.8188 - val_loss: 0.9377 - val_accuracy: 0.7000\n",
      "Epoch 49/50\n",
      "1/7 [===>..........................] - ETA: 0s - loss: 0.4492 - accuracy: 0.8281\n"
     ]
    },
    {
     "name": "stdout",
     "output_type": "stream",
     "text": [
      "Epoch 00049: saving model to saved_models\\genre_classification_scaled.hdf5\n",
      "7/7 [==============================] - 0s 25ms/step - loss: 0.5444 - accuracy: 0.8037 - val_loss: 0.9099 - val_accuracy: 0.7050\n",
      "Epoch 50/50\n",
      "5/7 [====================>.........] - ETA: 0s - loss: 0.6182 - accuracy: 0.78 - ETA: 0s - loss: 0.5517 - accuracy: 0.8062\n",
      "Epoch 00050: saving model to saved_models\\genre_classification_scaled.hdf5\n",
      "7/7 [==============================] - 0s 33ms/step - loss: 0.5599 - accuracy: 0.8050 - val_loss: 0.9145 - val_accuracy: 0.6900\n",
      "Training compiled in time:  0:00:16.223295\n"
     ]
    }
   ],
   "source": [
    "epochs = 50\n",
    "batch_size = 128\n",
    "checkpointer = ModelCheckpoint(filepath='saved_models/genre_classification_scaled.hdf5',\n",
    "                              verbose = 1, saved_best_only=True)\n",
    "start = datetime.now()\n",
    "\n",
    "history = model.fit(X_train,y_train,batch_size=batch_size,epochs=epochs,validation_data=(X_test,y_test),callbacks=[checkpointer],verbose=1)\n",
    "\n",
    "print(\"Training compiled in time: \",(datetime.now() - start))"
   ]
  },
  {
   "cell_type": "code",
   "execution_count": 91,
   "metadata": {},
   "outputs": [],
   "source": [
    "accuracy.extend(history.history['accuracy'])\n",
    "val_accuracy.extend(history.history['val_accuracy'])\n",
    "loss.extend(history.history['loss'])\n",
    "val_loss.extend(history.history['val_loss'])"
   ]
  },
  {
   "cell_type": "code",
   "execution_count": 92,
   "metadata": {},
   "outputs": [
    {
     "data": {
      "text/plain": [
       "[<matplotlib.lines.Line2D at 0x239649075c8>]"
      ]
     },
     "execution_count": 92,
     "metadata": {},
     "output_type": "execute_result"
    },
    {
     "data": {
      "image/png": "[encoded data removed]",
      "text/plain": [
       "<Figure size 864x288 with 1 Axes>"
      ]
     },
     "metadata": {
      "needs_background": "light"
     },
     "output_type": "display_data"
    }
   ],
   "source": [
    "# Accuracy\n",
    "plt.figure(figsize=(12,4))\n",
    "plt.plot(accuracy,color='red')\n",
    "plt.plot(val_accuracy,color='blue')"
   ]
  },
  {
   "cell_type": "code",
   "execution_count": 93,
   "metadata": {},
   "outputs": [
    {
     "data": {
      "text/plain": [
       "[<matplotlib.lines.Line2D at 0x239648ed4c8>]"
      ]
     },
     "execution_count": 93,
     "metadata": {},
     "output_type": "execute_result"
    },
    {
     "data": {
      "image/png": "[encoded data removed]",
      "text/plain": [
       "<Figure size 864x288 with 1 Axes>"
      ]
     },
     "metadata": {
      "needs_background": "light"
     },
     "output_type": "display_data"
    }
   ],
   "source": [
    "# Loss\n",
    "plt.figure(figsize=(12,4))\n",
    "plt.plot(loss,color='red')\n",
    "plt.plot(val_loss,color='blue')"
   ]
  },
  {
   "cell_type": "code",
   "execution_count": 94,
   "metadata": {},
   "outputs": [],
   "source": [
    "y_pred = model.predict(X_test)\n",
    "y_pred = np.array([[round(j) for j in i] for i in y_pred],dtype='float64')"
   ]
  },
  {
   "cell_type": "code",
   "execution_count": 95,
   "metadata": {},
   "outputs": [
    {
     "data": {
      "text/plain": [
       "0.645"
      ]
     },
     "execution_count": 95,
     "metadata": {},
     "output_type": "execute_result"
    }
   ],
   "source": [
    "inputs.accuracy(y_pred,y_test)"
   ]
  },
  {
   "cell_type": "code",
   "execution_count": 105,
   "metadata": {},
   "outputs": [
    {
     "data": {
      "text/plain": [
       "<matplotlib.axes._subplots.AxesSubplot at 0x2395d776808>"
      ]
     },
     "execution_count": 105,
     "metadata": {},
     "output_type": "execute_result"
    },
    {
     "data": {
      "image/png": "[encoded data removed]",
      "text/plain": [
       "<Figure size 720x504 with 2 Axes>"
      ]
     },
     "metadata": {
      "needs_background": "light"
     },
     "output_type": "display_data"
    }
   ],
   "source": [
    "inputs.confusionMatrix(inputs.decodeY(y_test), inputs.decodeY(y_pred))"
   ]
  },
  {
   "cell_type": "code",
   "execution_count": 106,
   "metadata": {},
   "outputs": [
    {
     "name": "stdout",
     "output_type": "stream",
     "text": [
      "INFO:tensorflow:Assets written to: saved_models/cnn_model\\assets\n"
     ]
    }
   ],
   "source": []
  },
  {
   "cell_type": "code",
   "execution_count": null,
   "metadata": {},
   "outputs": [],
   "source": []
  }
 ],
 "metadata": {
  "kernelspec": {
   "display_name": "Python 3",
   "language": "python",
   "name": "python3"
  },
  "language_info": {
   "codemirror_mode": {
    "name": "ipython",
    "version": 3
   },
   "file_extension": ".py",
   "mimetype": "text/x-python",
   "name": "python",
   "nbconvert_exporter": "python",
   "pygments_lexer": "ipython3",
   "version": "3.7.4"
  }
 },
 "nbformat": 4,
 "nbformat_minor": 2
}
